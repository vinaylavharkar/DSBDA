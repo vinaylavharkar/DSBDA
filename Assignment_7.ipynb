{
  "nbformat": 4,
  "nbformat_minor": 0,
  "metadata": {
    "colab": {
      "provenance": []
    },
    "kernelspec": {
      "name": "python3",
      "display_name": "Python 3"
    },
    "language_info": {
      "name": "python"
    }
  },
  "cells": [
    {
      "cell_type": "code",
      "execution_count": 28,
      "metadata": {
        "colab": {
          "base_uri": "https://localhost:8080/"
        },
        "id": "gBuKWfmdaTEb",
        "outputId": "44d86e12-a6ee-4f99-fdd7-371579eca468"
      },
      "outputs": [
        {
          "output_type": "stream",
          "name": "stderr",
          "text": [
            "[nltk_data] Downloading package punkt to /root/nltk_data...\n",
            "[nltk_data]   Package punkt is already up-to-date!\n",
            "[nltk_data] Downloading package wordnet to /root/nltk_data...\n",
            "[nltk_data]   Package wordnet is already up-to-date!\n",
            "[nltk_data] Downloading package averaged_perceptron_tagger to\n",
            "[nltk_data]     /root/nltk_data...\n",
            "[nltk_data]   Package averaged_perceptron_tagger is already up-to-\n",
            "[nltk_data]       date!\n",
            "[nltk_data] Downloading package stopwords to /root/nltk_data...\n",
            "[nltk_data]   Package stopwords is already up-to-date!\n"
          ]
        },
        {
          "output_type": "execute_result",
          "data": {
            "text/plain": [
              "True"
            ]
          },
          "metadata": {},
          "execution_count": 28
        }
      ],
      "source": [
        "import sklearn\n",
        "import nltk\n",
        "nltk.download('punkt')\n",
        "nltk.download('wordnet')\n",
        "nltk.download('averaged_perceptron_tagger')\n",
        "nltk.download('stopwords')"
      ]
    },
    {
      "cell_type": "code",
      "source": [
        "text= \"Text analytics is the process of analyzing unstructured text data in order to gain insights, extract patterns, and identify trends. It involves several preprocessing steps such as tokenization, POS tagging, stop words removal, stemming, and lemmatization.\""
      ],
      "metadata": {
        "id": "KD4y5TZHbUSZ"
      },
      "execution_count": 3,
      "outputs": []
    },
    {
      "cell_type": "code",
      "source": [
        "from nltk import sent_tokenize\n",
        "from nltk import word_tokenize"
      ],
      "metadata": {
        "id": "wMwZXcvtbgOY"
      },
      "execution_count": 4,
      "outputs": []
    },
    {
      "cell_type": "code",
      "source": [
        "token_sent = nltk.sent_tokenize(text)\n",
        "print(token_sent)"
      ],
      "metadata": {
        "colab": {
          "base_uri": "https://localhost:8080/"
        },
        "id": "_J-oflg7boco",
        "outputId": "0ea795f7-0d77-48e8-e384-06629135d9c6"
      },
      "execution_count": 5,
      "outputs": [
        {
          "output_type": "stream",
          "name": "stdout",
          "text": [
            "['Text analytics is the process of analyzing unstructured text data in order to gain insights, extract patterns, and identify trends.', 'It involves several preprocessing steps such as tokenization, POS tagging, stop words removal, stemming, and lemmatization.']\n"
          ]
        }
      ]
    },
    {
      "cell_type": "code",
      "source": [
        "word_token = nltk.word_tokenize(text)\n",
        "print(word_token)"
      ],
      "metadata": {
        "colab": {
          "base_uri": "https://localhost:8080/"
        },
        "id": "RYxmSV6db15T",
        "outputId": "6069cc12-3148-4204-ddf4-2f9951b2bd99"
      },
      "execution_count": 6,
      "outputs": [
        {
          "output_type": "stream",
          "name": "stdout",
          "text": [
            "['Text', 'analytics', 'is', 'the', 'process', 'of', 'analyzing', 'unstructured', 'text', 'data', 'in', 'order', 'to', 'gain', 'insights', ',', 'extract', 'patterns', ',', 'and', 'identify', 'trends', '.', 'It', 'involves', 'several', 'preprocessing', 'steps', 'such', 'as', 'tokenization', ',', 'POS', 'tagging', ',', 'stop', 'words', 'removal', ',', 'stemming', ',', 'and', 'lemmatization', '.']\n"
          ]
        }
      ]
    },
    {
      "cell_type": "code",
      "source": [
        "from nltk import pos_tag"
      ],
      "metadata": {
        "id": "J0jnCR1ucBO2"
      },
      "execution_count": 9,
      "outputs": []
    },
    {
      "cell_type": "code",
      "source": [
        "print(\"Parts of Speech: \", pos_tag(word_token))"
      ],
      "metadata": {
        "colab": {
          "base_uri": "https://localhost:8080/"
        },
        "id": "wn7bpjbIcaOb",
        "outputId": "2b5f7aed-9724-4ffa-ee9e-33b3423e5c9c"
      },
      "execution_count": 15,
      "outputs": [
        {
          "output_type": "stream",
          "name": "stdout",
          "text": [
            "Parts of Speech:  [('Text', 'NN'), ('analytics', 'NNS'), ('is', 'VBZ'), ('the', 'DT'), ('process', 'NN'), ('of', 'IN'), ('analyzing', 'VBG'), ('unstructured', 'JJ'), ('text', 'NN'), ('data', 'NNS'), ('in', 'IN'), ('order', 'NN'), ('to', 'TO'), ('gain', 'VB'), ('insights', 'NNS'), (',', ','), ('extract', 'NN'), ('patterns', 'NNS'), (',', ','), ('and', 'CC'), ('identify', 'VB'), ('trends', 'NNS'), ('.', '.'), ('It', 'PRP'), ('involves', 'VBZ'), ('several', 'JJ'), ('preprocessing', 'VBG'), ('steps', 'NNS'), ('such', 'JJ'), ('as', 'IN'), ('tokenization', 'NN'), (',', ','), ('POS', 'NNP'), ('tagging', 'NN'), (',', ','), ('stop', 'VB'), ('words', 'NNS'), ('removal', 'JJ'), (',', ','), ('stemming', 'VBG'), (',', ','), ('and', 'CC'), ('lemmatization', 'NN'), ('.', '.')]\n"
          ]
        }
      ]
    },
    {
      "cell_type": "code",
      "source": [
        "from nltk.corpus import stopwords\n",
        "stop_words = set(stopwords.words('english'))"
      ],
      "metadata": {
        "id": "YIAWoN_Lc8nL"
      },
      "execution_count": 18,
      "outputs": []
    },
    {
      "cell_type": "code",
      "source": [
        "print(\"Stop word Removal: \")\n",
        "\n",
        "tokens = word_tokenize(text)\n",
        "cleaned_tokens=[]\n",
        "\n",
        "for token in tokens:\n",
        "  if(token not in stop_words):\n",
        "    cleaned_tokens.append(token)\n",
        "print(cleaned_tokens)"
      ],
      "metadata": {
        "colab": {
          "base_uri": "https://localhost:8080/"
        },
        "id": "jyE82rwNdidg",
        "outputId": "ee4b75d0-3b2f-4768-817b-cb01e2877f01"
      },
      "execution_count": 19,
      "outputs": [
        {
          "output_type": "stream",
          "name": "stdout",
          "text": [
            "Stop word Removal: \n",
            "['Text', 'analytics', 'process', 'analyzing', 'unstructured', 'text', 'data', 'order', 'gain', 'insights', ',', 'extract', 'patterns', ',', 'identify', 'trends', '.', 'It', 'involves', 'several', 'preprocessing', 'steps', 'tokenization', ',', 'POS', 'tagging', ',', 'stop', 'words', 'removal', ',', 'stemming', ',', 'lemmatization', '.']\n"
          ]
        }
      ]
    },
    {
      "cell_type": "code",
      "source": [
        "from nltk.stem import PorterStemmer\n",
        "stemmer = PorterStemmer()"
      ],
      "metadata": {
        "id": "M7ldbEmeeDM-"
      },
      "execution_count": 22,
      "outputs": []
    },
    {
      "cell_type": "code",
      "source": [
        "stemmed_tokens = []\n",
        "\n",
        "for token in cleaned_tokens:\n",
        "  stemmed = stemmer.stem(token)\n",
        "  stemmed_tokens.append(stemmed)\n",
        "print(stemmed_tokens)"
      ],
      "metadata": {
        "colab": {
          "base_uri": "https://localhost:8080/"
        },
        "id": "EwC4lNMreKub",
        "outputId": "e339fd51-8e37-4557-d242-be515a0baf62"
      },
      "execution_count": 23,
      "outputs": [
        {
          "output_type": "stream",
          "name": "stdout",
          "text": [
            "['text', 'analyt', 'process', 'analyz', 'unstructur', 'text', 'data', 'order', 'gain', 'insight', ',', 'extract', 'pattern', ',', 'identifi', 'trend', '.', 'it', 'involv', 'sever', 'preprocess', 'step', 'token', ',', 'po', 'tag', ',', 'stop', 'word', 'remov', ',', 'stem', ',', 'lemmat', '.']\n"
          ]
        }
      ]
    },
    {
      "cell_type": "code",
      "source": [
        "from nltk.stem import WordNetLemmatizer\n",
        "lemmatizer = WordNetLemmatizer()\n"
      ],
      "metadata": {
        "id": "kLtZ9fe8euM-"
      },
      "execution_count": 24,
      "outputs": []
    },
    {
      "cell_type": "code",
      "source": [
        "lemmatizes_token = []\n",
        "for token in cleaned_tokens:\n",
        "  lemmatized = lemmatizer.lemmatize(token)\n",
        "  lemmatizes_token.append(lemmatized)\n",
        "print(lemmatizes_token)"
      ],
      "metadata": {
        "colab": {
          "base_uri": "https://localhost:8080/"
        },
        "id": "hMJ6Hg0ke4aH",
        "outputId": "00880ee3-bec5-4707-9aba-f995823124ac"
      },
      "execution_count": 25,
      "outputs": [
        {
          "output_type": "stream",
          "name": "stdout",
          "text": [
            "['Text', 'analytics', 'process', 'analyzing', 'unstructured', 'text', 'data', 'order', 'gain', 'insight', ',', 'extract', 'pattern', ',', 'identify', 'trend', '.', 'It', 'involves', 'several', 'preprocessing', 'step', 'tokenization', ',', 'POS', 'tagging', ',', 'stop', 'word', 'removal', ',', 'stemming', ',', 'lemmatization', '.']\n"
          ]
        }
      ]
    },
    {
      "cell_type": "code",
      "source": [
        "stopwords = stopwords.words('english')\n",
        "print(stopwords)"
      ],
      "metadata": {
        "colab": {
          "base_uri": "https://localhost:8080/"
        },
        "id": "UvO8g-gmfQEX",
        "outputId": "b81e0e7e-7378-4b0b-ce67-15e36c03cae5"
      },
      "execution_count": 26,
      "outputs": [
        {
          "output_type": "stream",
          "name": "stdout",
          "text": [
            "['i', 'me', 'my', 'myself', 'we', 'our', 'ours', 'ourselves', 'you', \"you're\", \"you've\", \"you'll\", \"you'd\", 'your', 'yours', 'yourself', 'yourselves', 'he', 'him', 'his', 'himself', 'she', \"she's\", 'her', 'hers', 'herself', 'it', \"it's\", 'its', 'itself', 'they', 'them', 'their', 'theirs', 'themselves', 'what', 'which', 'who', 'whom', 'this', 'that', \"that'll\", 'these', 'those', 'am', 'is', 'are', 'was', 'were', 'be', 'been', 'being', 'have', 'has', 'had', 'having', 'do', 'does', 'did', 'doing', 'a', 'an', 'the', 'and', 'but', 'if', 'or', 'because', 'as', 'until', 'while', 'of', 'at', 'by', 'for', 'with', 'about', 'against', 'between', 'into', 'through', 'during', 'before', 'after', 'above', 'below', 'to', 'from', 'up', 'down', 'in', 'out', 'on', 'off', 'over', 'under', 'again', 'further', 'then', 'once', 'here', 'there', 'when', 'where', 'why', 'how', 'all', 'any', 'both', 'each', 'few', 'more', 'most', 'other', 'some', 'such', 'no', 'nor', 'not', 'only', 'own', 'same', 'so', 'than', 'too', 'very', 's', 't', 'can', 'will', 'just', 'don', \"don't\", 'should', \"should've\", 'now', 'd', 'll', 'm', 'o', 're', 've', 'y', 'ain', 'aren', \"aren't\", 'couldn', \"couldn't\", 'didn', \"didn't\", 'doesn', \"doesn't\", 'hadn', \"hadn't\", 'hasn', \"hasn't\", 'haven', \"haven't\", 'isn', \"isn't\", 'ma', 'mightn', \"mightn't\", 'mustn', \"mustn't\", 'needn', \"needn't\", 'shan', \"shan't\", 'shouldn', \"shouldn't\", 'wasn', \"wasn't\", 'weren', \"weren't\", 'won', \"won't\", 'wouldn', \"wouldn't\"]\n"
          ]
        }
      ]
    },
    {
      "cell_type": "code",
      "source": [
        "from sklearn.feature_extraction.text import TfidfVectorizer\n",
        "vectorizer = TfidfVectorizer()"
      ],
      "metadata": {
        "id": "cOxFnc1wgJd6"
      },
      "execution_count": 35,
      "outputs": []
    },
    {
      "cell_type": "code",
      "source": [
        "matrix = vectorizer.fit([text])\n",
        "vocabulary = matrix.vocabulary_\n",
        "print(\"Vocabulary:\")\n",
        "print(vocabulary)"
      ],
      "metadata": {
        "colab": {
          "base_uri": "https://localhost:8080/"
        },
        "id": "w9s5lwG5gbwx",
        "outputId": "1720ce77-f5bf-45c3-a98a-c4e3e99b7106"
      },
      "execution_count": 49,
      "outputs": [
        {
          "output_type": "stream",
          "name": "stdout",
          "text": [
            "Vocabulary:\n",
            "{'text': 27, 'analytics': 0, 'is': 11, 'the': 28, 'process': 19, 'of': 14, 'analyzing': 1, 'unstructured': 32, 'data': 4, 'in': 8, 'order': 15, 'to': 29, 'gain': 6, 'insights': 9, 'extract': 5, 'patterns': 16, 'and': 2, 'identify': 7, 'trends': 31, 'it': 12, 'involves': 10, 'several': 21, 'preprocessing': 18, 'steps': 23, 'such': 25, 'as': 3, 'tokenization': 30, 'pos': 17, 'tagging': 26, 'stop': 24, 'words': 33, 'removal': 20, 'stemming': 22, 'lemmatization': 13}\n"
          ]
        }
      ]
    },
    {
      "cell_type": "code",
      "source": [
        "tfidf_matrix = vectorizer.transform([text])\n",
        "print(tfidf_matrix)"
      ],
      "metadata": {
        "colab": {
          "base_uri": "https://localhost:8080/"
        },
        "id": "xGEnUzwSiy81",
        "outputId": "5759873e-8316-4f96-9b72-57db1fe02c9f"
      },
      "execution_count": 50,
      "outputs": [
        {
          "output_type": "stream",
          "name": "stdout",
          "text": [
            "  (0, 33)\t0.15811388300841897\n",
            "  (0, 32)\t0.15811388300841897\n",
            "  (0, 31)\t0.15811388300841897\n",
            "  (0, 30)\t0.15811388300841897\n",
            "  (0, 29)\t0.15811388300841897\n",
            "  (0, 28)\t0.15811388300841897\n",
            "  (0, 27)\t0.31622776601683794\n",
            "  (0, 26)\t0.15811388300841897\n",
            "  (0, 25)\t0.15811388300841897\n",
            "  (0, 24)\t0.15811388300841897\n",
            "  (0, 23)\t0.15811388300841897\n",
            "  (0, 22)\t0.15811388300841897\n",
            "  (0, 21)\t0.15811388300841897\n",
            "  (0, 20)\t0.15811388300841897\n",
            "  (0, 19)\t0.15811388300841897\n",
            "  (0, 18)\t0.15811388300841897\n",
            "  (0, 17)\t0.15811388300841897\n",
            "  (0, 16)\t0.15811388300841897\n",
            "  (0, 15)\t0.15811388300841897\n",
            "  (0, 14)\t0.15811388300841897\n",
            "  (0, 13)\t0.15811388300841897\n",
            "  (0, 12)\t0.15811388300841897\n",
            "  (0, 11)\t0.15811388300841897\n",
            "  (0, 10)\t0.15811388300841897\n",
            "  (0, 9)\t0.15811388300841897\n",
            "  (0, 8)\t0.15811388300841897\n",
            "  (0, 7)\t0.15811388300841897\n",
            "  (0, 6)\t0.15811388300841897\n",
            "  (0, 5)\t0.15811388300841897\n",
            "  (0, 4)\t0.15811388300841897\n",
            "  (0, 3)\t0.15811388300841897\n",
            "  (0, 2)\t0.31622776601683794\n",
            "  (0, 1)\t0.15811388300841897\n",
            "  (0, 0)\t0.15811388300841897\n"
          ]
        }
      ]
    },
    {
      "cell_type": "code",
      "source": [
        "print(vectorizer.get_feature_names_out())"
      ],
      "metadata": {
        "colab": {
          "base_uri": "https://localhost:8080/"
        },
        "id": "pjtmMmpBi6aw",
        "outputId": "a4675ec4-0ae2-423c-9f72-b9d33d59192d"
      },
      "execution_count": 51,
      "outputs": [
        {
          "output_type": "stream",
          "name": "stdout",
          "text": [
            "['analytics' 'analyzing' 'and' 'as' 'data' 'extract' 'gain' 'identify'\n",
            " 'in' 'insights' 'involves' 'is' 'it' 'lemmatization' 'of' 'order'\n",
            " 'patterns' 'pos' 'preprocessing' 'process' 'removal' 'several' 'stemming'\n",
            " 'steps' 'stop' 'such' 'tagging' 'text' 'the' 'to' 'tokenization' 'trends'\n",
            " 'unstructured' 'words']\n"
          ]
        }
      ]
    }
  ]
}